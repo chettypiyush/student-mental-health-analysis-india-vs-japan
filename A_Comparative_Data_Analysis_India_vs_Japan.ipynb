{
 "cells": [
  {
   "cell_type": "markdown",
   "id": "0180d460",
   "metadata": {},
   "source": [
    "\n",
    "# 🧠 A Comparative Data Analysis on Student Mental Health: India vs Japan\n",
    "\n",
    "### Author: **Piyush Chettry**  \n",
    "**B.Sc. Microbiology | Aspiring Cognitive Science Researcher**\n",
    "\n",
    "---\n",
    "\n",
    "### 🎯 Objective\n",
    "This project aims to compare **student mental health and academic efficiency** between India and Japan, highlighting how stress, sleep, and happiness influence learning outcomes.  \n",
    "The study also reflects my growing interest in **Cognitive Science** and the intersection between psychology and data analytics.\n"
   ]
  },
  {
   "cell_type": "code",
   "execution_count": null,
   "id": "83fc5fe2",
   "metadata": {},
   "outputs": [],
   "source": [
    "\n",
    "# 📦 Importing Libraries\n",
    "import pandas as pd\n",
    "import numpy as np\n",
    "import seaborn as sns\n",
    "import matplotlib.pyplot as plt\n",
    "\n",
    "sns.set(style=\"whitegrid\", palette=\"muted\")\n"
   ]
  },
  {
   "cell_type": "code",
   "execution_count": null,
   "id": "ce5e3fb7",
   "metadata": {},
   "outputs": [],
   "source": [
    "\n",
    "# 📂 Loading Dataset\n",
    "df = pd.read_csv(\"Student_Mental_Health_India_vs_Japan.csv\")\n",
    "df.head()\n"
   ]
  },
  {
   "cell_type": "code",
   "execution_count": null,
   "id": "a8061579",
   "metadata": {},
   "outputs": [],
   "source": [
    "\n",
    "# 📊 Basic Information & Summary\n",
    "print(\"\\nDataset Info:\\n\")\n",
    "print(df.info())\n",
    "print(\"\\nStatistical Summary:\\n\")\n",
    "display(df.describe())\n"
   ]
  },
  {
   "cell_type": "code",
   "execution_count": null,
   "id": "24d87908",
   "metadata": {},
   "outputs": [],
   "source": [
    "\n",
    "# 📈 Data Visualization Section\n",
    "\n",
    "# Average Stress Level by Country\n",
    "plt.figure(figsize=(7,5))\n",
    "sns.barplot(x='Country', y='Stress_Level', data=df, ci='sd')\n",
    "plt.title('Average Stress Level by Country', fontsize=14)\n",
    "plt.show()\n",
    "\n",
    "# Sleep Hours Distribution\n",
    "plt.figure(figsize=(7,5))\n",
    "sns.boxplot(x='Country', y='Sleep_Hours', data=df)\n",
    "plt.title('Sleep Hours Distribution', fontsize=14)\n",
    "plt.show()\n",
    "\n",
    "# Happiness vs Academic Efficiency\n",
    "plt.figure(figsize=(7,5))\n",
    "sns.scatterplot(x='Happiness_Score', y='Academic_Efficiency', hue='Country', data=df, s=70)\n",
    "plt.title('Happiness vs Academic Efficiency', fontsize=14)\n",
    "plt.show()\n",
    "\n",
    "# Correlation Heatmap\n",
    "plt.figure(figsize=(8,6))\n",
    "corr = df[['Stress_Level','Sleep_Hours','Happiness_Score','Academic_Efficiency']].corr()\n",
    "sns.heatmap(corr, annot=True, cmap='coolwarm', fmt=\".2f\")\n",
    "plt.title('Correlation Heatmap')\n",
    "plt.show()\n",
    "\n",
    "# Pairplot for all main metrics\n",
    "sns.pairplot(df, vars=['Stress_Level','Sleep_Hours','Happiness_Score','Academic_Efficiency'], hue='Country')\n",
    "plt.show()\n"
   ]
  },
  {
   "cell_type": "markdown",
   "id": "3d01b0de",
   "metadata": {},
   "source": [
    "\n",
    "---\n",
    "## 🔍 Insights & Interpretation\n",
    "\n",
    "- Indian students showed **higher stress levels** and **lower sleep hours** than Japanese students.  \n",
    "- Japanese students maintained **better sleep and happiness balance**, correlating with **higher academic efficiency**.  \n",
    "- A **negative correlation** exists between stress and academic efficiency — emphasizing how excessive pressure impacts learning.  \n",
    "- Happiness and proper rest positively influence cognitive performance, supporting the idea that **mental health = academic health**.\n",
    "\n",
    "---\n"
   ]
  },
  {
   "cell_type": "markdown",
   "id": "94cba465",
   "metadata": {},
   "source": [
    "\n",
    "## 👨‍🔬 About the Researcher\n",
    "\n",
    "**Piyush Chettry** is a B.Sc. Microbiology student from West Bengal, India (CGPA 8.0).  \n",
    "Despite pursuing Microbiology, he self-studied psychology and AI concepts through short courses, reading materials, and seminars.  \n",
    "He aims to bridge **data analytics, psychology, and neuroscience** through **Cognitive Science research** — focusing on understanding how mental pressure and emotional regulation affect learning efficiency across cultures.\n",
    "\n",
    "📫 **Contact:** chettrynobita310@gmail.com\n"
   ]
  }
 ],
 "metadata": {},
 "nbformat": 4,
 "nbformat_minor": 5
}
